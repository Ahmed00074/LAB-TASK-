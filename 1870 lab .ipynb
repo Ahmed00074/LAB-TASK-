{
 "cells": [
  {
   "cell_type": "code",
   "metadata": {
    "colab": {
     "base_uri": "https://localhost:8080/"
    },
    "id": "vLtFgOwuuVpo",
    "outputId": "eaec3bad-915a-4aef-cbe9-d21b23ec65ad",
    "ExecuteTime": {
     "end_time": "2024-09-24T16:28:55.195065Z",
     "start_time": "2024-09-24T16:28:55.154332Z"
    }
   },
   "source": [
    "#1.print \"Hello Python\"\n",
    "\n",
    "print(\"Hello Phython\")"
   ],
   "outputs": [
    {
     "name": "stdout",
     "output_type": "stream",
     "text": [
      "Hello Phython\n"
     ]
    }
   ],
   "execution_count": 5
  },
  {
   "cell_type": "code",
   "metadata": {
    "colab": {
     "base_uri": "https://localhost:8080/"
    },
    "id": "14_lMfjJ204S",
    "outputId": "7bdd2942-ee34-4bca-edb0-8bff53b94a87",
    "ExecuteTime": {
     "end_time": "2024-09-24T16:29:06.943715Z",
     "start_time": "2024-09-24T16:28:55.361677Z"
    }
   },
   "source": [
    "a = float(input(\"first number: \"))\n",
    "b = float(input(\"second number: \"))\n",
    "\n",
    "add = a + b\n",
    "sub = a - b\n",
    "mul = a * b\n",
    "div = a / b\n",
    "modulus = a % b\n",
    "expo = a ** b\n",
    "\n",
    "print(\"Addition: \",add)\n",
    "print(\"Subtraction:\",sub)\n",
    "print(\"Multiplication:\",mul)\n",
    "print(\"Division:\",div)\n",
    "print(\"Modulus:\",modulus)\n",
    "print(\"Exponentiation: \",expo)"
   ],
   "outputs": [
    {
     "name": "stdout",
     "output_type": "stream",
     "text": [
      "Addition:  15.0\n",
      "Subtraction: -5.0\n",
      "Multiplication: 50.0\n",
      "Division: 0.5\n",
      "Modulus: 5.0\n",
      "Exponentiation:  9765625.0\n"
     ]
    }
   ],
   "execution_count": 6
  },
  {
   "cell_type": "code",
   "execution_count": null,
   "metadata": {
    "colab": {
     "base_uri": "https://localhost:8080/"
    },
    "id": "36VV8wU9TUsw",
    "outputId": "27360d72-0b9a-4336-948a-d683d7be21ec"
   },
   "outputs": [
    {
     "name": "stdout",
     "output_type": "stream",
     "text": [
      "Enter the base : 7\n",
      "Enter the height : 3\n",
      "The area of the triangle is: 10.5\n"
     ]
    }
   ],
   "source": [
    "#3.area of a triangle\n",
    "\n",
    "base = float(input(\"base: \"))\n",
    "hight= float(input(\"height: \"))\n",
    "\n",
    "area = 0.5 * base *hight\n",
    "\n",
    "print(\"area of triangle :\", area)\n"
   ]
  },
  {
   "cell_type": "code",
   "metadata": {
    "colab": {
     "base_uri": "https://localhost:8080/"
    },
    "id": "5cHD0spzTzzE",
    "outputId": "d7fd42ca-4e1b-47e1-839d-a69c48062740",
    "ExecuteTime": {
     "end_time": "2024-09-24T16:30:26.171930Z",
     "start_time": "2024-09-24T16:30:12.322631Z"
    }
   },
   "source": [
    "#4.quadratic equation\n",
    "\n",
    "import cmath  \n",
    "# Input coefficients a, b, and c\n",
    "a = float(input('Enter a: '))\n",
    "b = float(input('Enter b: '))\n",
    "c = float(input('Enter c: '))\n",
    "\n",
    "# Calculate the discriminant\n",
    "d = (b**2) - (4*a*c)\n",
    "\n",
    "# Find two solutions (handling complex roots with cmath)\n",
    "x = (-b - cmath.sqrt(d)) / (2*a)\n",
    "y = (-b + cmath.sqrt(d)) / (2*a)\n",
    "\n",
    "\n",
    "print('The solutions are {0} and {1}'.format(x, y))"
   ],
   "outputs": [
    {
     "name": "stdout",
     "output_type": "stream",
     "text": [
      "The solutions are (-2.161187420807834+0j) and (-0.13881257919216577+0j)\n"
     ]
    }
   ],
   "execution_count": 7
  },
  {
   "cell_type": "code",
   "metadata": {
    "colab": {
     "base_uri": "https://localhost:8080/"
    },
    "id": "un4uryz8XgGc",
    "outputId": "6e2458db-b5b6-4ebb-a253-ee16dc50296c",
    "ExecuteTime": {
     "end_time": "2024-09-24T16:32:06.506820Z",
     "start_time": "2024-09-24T16:31:58.921394Z"
    }
   },
   "source": [
    "#5.swap two variables\n",
    "\n",
    "a = input(\"Enter  value  a: \")\n",
    "b = input(\"Enter  value  b: \")\n",
    "\n",
    "a, b = b, a\n",
    "\n",
    "print(\"After swapping:\")\n",
    "print(a)\n",
    "print(b)"
   ],
   "outputs": [
    {
     "name": "stdout",
     "output_type": "stream",
     "text": [
      "After swapping:\n",
      "23\n",
      "5\n"
     ]
    }
   ],
   "execution_count": 8
  },
  {
   "cell_type": "code",
   "metadata": {
    "colab": {
     "base_uri": "https://localhost:8080/"
    },
    "id": "mQr7o2OIa9Sx",
    "outputId": "4dc72dfa-1cd2-4e15-dd57-ae416f673017",
    "ExecuteTime": {
     "end_time": "2024-09-24T16:33:58.504739Z",
     "start_time": "2024-09-24T16:33:58.481616Z"
    }
   },
   "source": [
    "#6.Generate a Random Number\n",
    "\n",
    "import random\n",
    "\n",
    "random= random.randint(1, 100)\n",
    "\n",
    "print(\"Random number under 1 to 100:\", random)"
   ],
   "outputs": [
    {
     "name": "stdout",
     "output_type": "stream",
     "text": [
      "Random number under 1 to 100: 60\n"
     ]
    }
   ],
   "execution_count": 10
  },
  {
   "cell_type": "code",
   "metadata": {
    "colab": {
     "base_uri": "https://localhost:8080/"
    },
    "id": "KJDc6ul8d0be",
    "outputId": "2e5e1a7e-770b-4560-f45d-e00cb722fb89",
    "ExecuteTime": {
     "end_time": "2024-09-24T16:36:43.812766Z",
     "start_time": "2024-09-24T16:36:40.391629Z"
    }
   },
   "source": [
    "#7.convert kilometers to miles\n",
    "\n",
    "km = float(input(\"Enter km: \"))\n",
    "\n",
    "conversio= 0.621371\n",
    "\n",
    "mile = km * conversio\n",
    "\n",
    "print(f\"{km} kilometers is {mile} miles\")"
   ],
   "outputs": [
    {
     "name": "stdout",
     "output_type": "stream",
     "text": [
      "1.0 kilometers is equal to 0.621371 miles\n"
     ]
    }
   ],
   "execution_count": 11
  },
  {
   "cell_type": "code",
   "metadata": {
    "colab": {
     "base_uri": "https://localhost:8080/"
    },
    "id": "ObiNIKs9erww",
    "outputId": "a0e9eddf-7de6-425e-c510-df2beca065fc",
    "ExecuteTime": {
     "end_time": "2024-09-24T16:38:07.854797Z",
     "start_time": "2024-09-24T16:38:04.512989Z"
    }
   },
   "source": [
    "#8.convert Celsius to Fahrenheit\n",
    "\n",
    "cel = float(input(\"Enter Celsius: \"))\n",
    "fer = ( 9/5 * c ) + 32\n",
    "\n",
    "print(f\"{cel}C  is {fer}F\")\n"
   ],
   "outputs": [
    {
     "name": "stdout",
     "output_type": "stream",
     "text": [
      "45.0C  is 37.4F\n"
     ]
    }
   ],
   "execution_count": 13
  },
  {
   "cell_type": "code",
   "metadata": {
    "colab": {
     "base_uri": "https://localhost:8080/"
    },
    "id": "q2DYvdBOf6rx",
    "outputId": "20edca5e-9f6b-4e20-eb5e-3ef5547348fd",
    "ExecuteTime": {
     "end_time": "2024-09-24T16:38:47.398098Z",
     "start_time": "2024-09-24T16:38:38.280839Z"
    }
   },
   "source": [
    "#9.display calendar\n",
    "\n",
    "import calendar\n",
    "\n",
    "yy = int(input(\"Enter year: \"))\n",
    "mm = int(input(\"Enter month: \"))\n",
    "\n",
    "print(calendar.month(yy, mm))"
   ],
   "outputs": [
    {
     "name": "stdout",
     "output_type": "stream",
     "text": [
      "   December 1998\n",
      "Mo Tu We Th Fr Sa Su\n",
      "    1  2  3  4  5  6\n",
      " 7  8  9 10 11 12 13\n",
      "14 15 16 17 18 19 20\n",
      "21 22 23 24 25 26 27\n",
      "28 29 30 31\n",
      "\n"
     ]
    }
   ],
   "execution_count": 14
  },
  {
   "cell_type": "code",
   "metadata": {
    "colab": {
     "base_uri": "https://localhost:8080/"
    },
    "id": "rbKf00nqhJR6",
    "outputId": "966ab8e5-44af-4d9e-ed24-833d944a7ebf",
    "ExecuteTime": {
     "end_time": "2024-09-24T16:43:34.043622Z",
     "start_time": "2024-09-24T16:43:30.690562Z"
    }
   },
   "source": [
    "#10.check if a Number is Positive, Negative or Zero\n",
    "\n",
    "def cheak(num):\n",
    "    if num > 0:\n",
    "        print(\"Positive\",num)\n",
    "    elif num < 0:\n",
    "        print(\"Negative\",num)\n",
    "    else:\n",
    "        print(\"The number is Zero.\")\n",
    "\n",
    "number = int(input(\"Enter the number: \"))\n",
    "\n",
    "\n",
    "cheak(number)"
   ],
   "outputs": [
    {
     "name": "stdout",
     "output_type": "stream",
     "text": [
      "Positive 20\n"
     ]
    }
   ],
   "execution_count": 21
  },
  {
   "cell_type": "code",
   "metadata": {
    "colab": {
     "base_uri": "https://localhost:8080/"
    },
    "id": "cvy52FkfiodO",
    "outputId": "aea8afba-b9a7-4863-bc0c-5a0654786c5f",
    "ExecuteTime": {
     "end_time": "2024-09-24T16:44:29.221618Z",
     "start_time": "2024-09-24T16:44:25.840226Z"
    }
   },
   "source": [
    "#11.check if a Number is Odd or Even\n",
    "n = int(input(\"Enter the number: \"))\n",
    "if n % 2 == 0:\n",
    "    print(\"Even\")\n",
    "else:\n",
    "    print(\"Odd\")"
   ],
   "outputs": [
    {
     "name": "stdout",
     "output_type": "stream",
     "text": [
      "Odd\n"
     ]
    }
   ],
   "execution_count": 22
  },
  {
   "cell_type": "code",
   "metadata": {
    "colab": {
     "base_uri": "https://localhost:8080/"
    },
    "id": "xjh_0mPLkR39",
    "outputId": "a4c313a1-f421-4342-f620-89ea33ebee5a",
    "ExecuteTime": {
     "end_time": "2024-09-24T16:45:56.150335Z",
     "start_time": "2024-09-24T16:45:52.031912Z"
    }
   },
   "source": [
    "#12.check Leap Year\n",
    "\n",
    "yr = int(input(\"Enter the year: \"))\n",
    "if (yr % 4 == 0 ) or (yr % 400 == 0):\n",
    "    print(\"Leap Year.\")\n",
    "else:\n",
    "    print(\"Not a Leap Year.\")"
   ],
   "outputs": [
    {
     "name": "stdout",
     "output_type": "stream",
     "text": [
      "Leap Year.\n"
     ]
    }
   ],
   "execution_count": 24
  },
  {
   "cell_type": "code",
   "metadata": {
    "colab": {
     "base_uri": "https://localhost:8080/"
    },
    "id": "i8B08dXVkwV0",
    "outputId": "d668f0b3-00f0-467f-a777-a92d8ba97b7e",
    "ExecuteTime": {
     "end_time": "2024-09-24T16:46:51.631092Z",
     "start_time": "2024-09-24T16:46:45.888763Z"
    }
   },
   "source": [
    "#13.check Prime Number\n",
    "\n",
    "num = int(input(\"Enter number: \"))\n",
    "if num > 1:\n",
    "    for i in range(2, int(num ** 0.5) + 1):\n",
    "        if num % i == 0:\n",
    "            print(\"Not Prime number.\",num)\n",
    "            break\n",
    "    else:\n",
    "        print(\"Prime number.\",num)\n",
    "else:\n",
    "    print(\"Not a Prime number.\",num)"
   ],
   "outputs": [
    {
     "name": "stdout",
     "output_type": "stream",
     "text": [
      "Not Prime number. 200\n"
     ]
    }
   ],
   "execution_count": 25
  },
  {
   "cell_type": "code",
   "metadata": {
    "colab": {
     "base_uri": "https://localhost:8080/"
    },
    "id": "xCL__11blPv1",
    "outputId": "3e1c9c89-93b4-49d2-f05c-21fb573f6f21",
    "ExecuteTime": {
     "end_time": "2024-09-24T16:47:18.187993Z",
     "start_time": "2024-09-24T16:47:10.779462Z"
    }
   },
   "source": [
    "#14.print all Prime Numbers in an Interval\n",
    "\n",
    "start = int(input(\"start of interval: \"))\n",
    "end = int(input(\"end of interval: \"))\n",
    "\n",
    "for num in range(start, end + 1):\n",
    "    if num > 1:\n",
    "        for i in range(2, int(num ** 0.5) + 1):\n",
    "            if num % i == 0:\n",
    "                break\n",
    "        else:\n",
    "            print(num)"
   ],
   "outputs": [
    {
     "name": "stdout",
     "output_type": "stream",
     "text": [
      "5\n",
      "7\n",
      "11\n",
      "13\n",
      "17\n",
      "19\n"
     ]
    }
   ],
   "execution_count": 26
  },
  {
   "cell_type": "code",
   "metadata": {
    "colab": {
     "base_uri": "https://localhost:8080/"
    },
    "id": "t6r_IXCHng3L",
    "outputId": "0e87ccb4-1ec2-4ea9-959e-f790e1a20d2a",
    "ExecuteTime": {
     "end_time": "2024-09-24T16:47:47.280587Z",
     "start_time": "2024-09-24T16:47:43.355590Z"
    }
   },
   "source": [
    "#15.Find the Factorial of a Number\n",
    "\n",
    "def factorial(n):\n",
    "    return 1 if n == 0 else n * factorial(n-1)\n",
    "\n",
    "num = int(input(\"number: \"))\n",
    "print(f\"Factorial of {num} is {factorial(num)}.\")"
   ],
   "outputs": [
    {
     "name": "stdout",
     "output_type": "stream",
     "text": [
      "Factorial of 45 is 119622220865480194561963161495657715064383733760000000000.\n"
     ]
    }
   ],
   "execution_count": 27
  },
  {
   "cell_type": "code",
   "execution_count": null,
   "metadata": {
    "colab": {
     "base_uri": "https://localhost:8080/"
    },
    "id": "QVX3stNKrW0r",
    "outputId": "77c105d1-84a6-40d3-d0af-bf9588141ca4"
   },
   "outputs": [
    {
     "name": "stdout",
     "output_type": "stream",
     "text": [
      "Enter a number: 7\n",
      "7 x 1 = 7\n",
      "7 x 2 = 14\n",
      "7 x 3 = 21\n",
      "7 x 4 = 28\n",
      "7 x 5 = 35\n",
      "7 x 6 = 42\n",
      "7 x 7 = 49\n",
      "7 x 8 = 56\n",
      "7 x 9 = 63\n",
      "7 x 10 = 70\n"
     ]
    }
   ],
   "source": [
    "#16.display the Multiplication Table\n",
    "\n",
    "num = int(input(\"Enter number: \"))\n",
    "for i in range(1, 11):\n",
    "    print(f\"{num} x {i} = {num * i}\")"
   ]
  },
  {
   "cell_type": "code",
   "metadata": {
    "colab": {
     "base_uri": "https://localhost:8080/"
    },
    "id": "Wk6JPFuMsVoA",
    "outputId": "fde912fb-58d0-4c9b-a7c5-8bb02b57238e",
    "ExecuteTime": {
     "end_time": "2024-09-24T16:48:36.450975Z",
     "start_time": "2024-09-24T16:48:32.223562Z"
    }
   },
   "source": [
    "#17.print the Fibonacci Sequence\n",
    "\n",
    "n = int(input(\"Enter how many you want: \"))\n",
    "a, b = 0, 1\n",
    "for _ in range(n):\n",
    "    print(a, end=' ')\n",
    "    a, b = b, a + b"
   ],
   "outputs": [
    {
     "name": "stdout",
     "output_type": "stream",
     "text": [
      "0 1 1 2 3 5 8 13 21 34 "
     ]
    }
   ],
   "execution_count": 28
  },
  {
   "cell_type": "code",
   "metadata": {
    "colab": {
     "base_uri": "https://localhost:8080/"
    },
    "id": "mEVxytGksg2j",
    "outputId": "bdf78505-609c-4620-af36-aa31a2a0db87",
    "ExecuteTime": {
     "end_time": "2024-09-24T16:49:04.297654Z",
     "start_time": "2024-09-24T16:48:57.074880Z"
    }
   },
   "source": [
    "#18.Check Armstrong Number\n",
    "num = int(input(\"Enter a number: \"))\n",
    "order = len(str(num))\n",
    "sum_of_digits = sum(int(digit) ** order for digit in str(num))\n",
    "\n",
    "if num == sum_of_digits:\n",
    "    print(f\"{num} is an Armstrong number.\")\n",
    "else:\n",
    "    print(f\"{num} is not an Armstrong number.\")"
   ],
   "outputs": [
    {
     "name": "stdout",
     "output_type": "stream",
     "text": [
      "50 is not an Armstrong number.\n"
     ]
    }
   ],
   "execution_count": 29
  },
  {
   "cell_type": "code",
   "metadata": {
    "colab": {
     "base_uri": "https://localhost:8080/"
    },
    "id": "yzv1IHaos28r",
    "outputId": "90f9edd0-67b1-498d-dfbe-466300cd855d",
    "ExecuteTime": {
     "end_time": "2024-09-24T16:49:30.841667Z",
     "start_time": "2024-09-24T16:49:23.438276Z"
    }
   },
   "source": [
    "#19.find Armstrong Numbers in an Interval\n",
    "\n",
    "start = int(input(\"start of interval: \"))\n",
    "end = int(input(\"end of interval: \"))\n",
    "\n",
    "for num in range(start, end + 1):\n",
    "    order = len(str(num))\n",
    "    if num == sum(int(digit) ** order for digit in str(num)):\n",
    "        print(num)"
   ],
   "outputs": [
    {
     "name": "stdout",
     "output_type": "stream",
     "text": [
      "2\n",
      "3\n",
      "4\n",
      "5\n",
      "6\n",
      "7\n",
      "8\n",
      "9\n"
     ]
    }
   ],
   "execution_count": 30
  },
  {
   "cell_type": "code",
   "metadata": {
    "colab": {
     "base_uri": "https://localhost:8080/"
    },
    "id": "qOyc6ZRktH3c",
    "outputId": "708266ad-8f4b-46e7-8e38-b3050dc3a5e0",
    "ExecuteTime": {
     "end_time": "2024-09-24T16:49:44.021318Z",
     "start_time": "2024-09-24T16:49:40.701279Z"
    }
   },
   "source": [
    "#20.Find the Sum of Natural Numbers\n",
    "\n",
    "n = int(input(\"Enter a number: \"))\n",
    "sum_n = n * (n + 1) // 2\n",
    "print(f\"Sum of first {n} natural numbers is {sum_n}.\")"
   ],
   "outputs": [
    {
     "name": "stdout",
     "output_type": "stream",
     "text": [
      "Sum of first 15 natural numbers is 120.\n"
     ]
    }
   ],
   "execution_count": 31
  },
  {
   "cell_type": "code",
   "metadata": {
    "colab": {
     "base_uri": "https://localhost:8080/"
    },
    "id": "XgT5e2-ktVVr",
    "outputId": "c3a04e1c-c10f-4a71-8f01-86ed91e2c738",
    "ExecuteTime": {
     "end_time": "2024-09-24T16:50:24.400077Z",
     "start_time": "2024-09-24T16:50:06.567896Z"
    }
   },
   "source": [
    "#21.Print Reverse of a String\n",
    "\n",
    "string = input(\"Enter a string: \")\n",
    "print(f\"Reversed string is: {string[::-1]}\")"
   ],
   "outputs": [
    {
     "name": "stdout",
     "output_type": "stream",
     "text": [
      "Reversed string is: gnidoc evol I\n"
     ]
    }
   ],
   "execution_count": 32
  },
  {
   "cell_type": "code",
   "execution_count": null,
   "metadata": {
    "colab": {
     "base_uri": "https://localhost:8080/"
    },
    "id": "DQX4k3o8tkXD",
    "outputId": "3e659aa7-4d5e-4017-e049-2c9336ec7aca"
   },
   "outputs": [
    {
     "name": "stdout",
     "output_type": "stream",
     "text": [
      "Sum of first 10 natural numbers is 55.\n"
     ]
    }
   ],
   "source": [
    "#22.Print Sum of First Ten Natural Numbers\n",
    "\n",
    "print(f\"Sum of first 10 natural numbers is {sum(range(1, 11))}.\")"
   ]
  },
  {
   "cell_type": "code",
   "metadata": {
    "colab": {
     "base_uri": "https://localhost:8080/"
    },
    "id": "wqWlC39uvgia",
    "outputId": "f119c4cc-4170-45e8-cf54-0bcdd6f0fc83",
    "ExecuteTime": {
     "end_time": "2024-09-24T16:51:34.204263Z",
     "start_time": "2024-09-24T16:51:22.805494Z"
    }
   },
   "source": [
    "#23.7Find LCM\n",
    "\n",
    "import math\n",
    "def LCM(a, b):\n",
    "    return abs(a*b) // math.gcd(a, b)\n",
    "x = int(input(\"Enter first number: \"))\n",
    "y = int(input(\"Enter second number: \"))\n",
    "print(f\"LCM of {x} and {y} is {LCM(x, y)}.\")"
   ],
   "outputs": [
    {
     "name": "stdout",
     "output_type": "stream",
     "text": [
      "LCM of 62 and 102 is 3162.\n"
     ]
    }
   ],
   "execution_count": 34
  },
  {
   "cell_type": "code",
   "metadata": {
    "colab": {
     "base_uri": "https://localhost:8080/"
    },
    "id": "9IJrUUYi3xnm",
    "outputId": "b231e2af-410a-4bd9-a009-f54c93d2a4b2",
    "ExecuteTime": {
     "end_time": "2024-09-24T17:10:06.389108Z",
     "start_time": "2024-09-24T17:09:56.972685Z"
    }
   },
   "source": [
    "#24.Find HCF\n",
    "\n",
    "import math  # Import the math module\n",
    "x = int(input(\"Enter first number: \"))\n",
    "y = int(input(\"Enter second number: \"))\n",
    "print(f\"HCF of {x} and {y} is {math.gcd(x, y)}.\")"
   ],
   "outputs": [
    {
     "name": "stdout",
     "output_type": "stream",
     "text": [
      "HCF of 20 and 45 is 5.\n"
     ]
    }
   ],
   "execution_count": 35
  },
  {
   "cell_type": "code",
   "metadata": {
    "colab": {
     "base_uri": "https://localhost:8080/"
    },
    "id": "tCay34vq3_ll",
    "outputId": "90088412-cabd-40b4-f573-90fc69315f0a",
    "ExecuteTime": {
     "end_time": "2024-09-24T17:10:53.336788Z",
     "start_time": "2024-09-24T17:10:50.328622Z"
    }
   },
   "source": [
    "#25.Convert Decimal to Binary, Octal, and Hexadecimal\n",
    "\n",
    "num = int(input(\"Enter a decimal number: \"))\n",
    "print(f\"Binary: {bin(num)[2:]}\")\n",
    "print(f\"Octal: {oct(num)[2:]}\")\n",
    "print(f\"Hexadecimal: {hex(num)[2:]}\")"
   ],
   "outputs": [
    {
     "name": "stdout",
     "output_type": "stream",
     "text": [
      "Binary: 110100\n",
      "Octal: 64\n",
      "Hexadecimal: 34\n"
     ]
    }
   ],
   "execution_count": 37
  },
  {
   "cell_type": "code",
   "metadata": {
    "colab": {
     "base_uri": "https://localhost:8080/"
    },
    "id": "8yNABGF44Pal",
    "outputId": "47f725ba-601a-4a21-82b4-4eb39e9cbabd",
    "ExecuteTime": {
     "end_time": "2024-09-24T17:11:08.337407Z",
     "start_time": "2024-09-24T17:11:04.148907Z"
    }
   },
   "source": [
    "#26.Find ASCII value of a Character\n",
    "\n",
    "char = input(\"Enter a character: \")\n",
    "print(f\"ASCII value of '{char}' is {ord(char)}.\")"
   ],
   "outputs": [
    {
     "name": "stdout",
     "output_type": "stream",
     "text": [
      "ASCII value of 'z' is 122.\n"
     ]
    }
   ],
   "execution_count": 38
  },
  {
   "cell_type": "code",
   "metadata": {
    "colab": {
     "base_uri": "https://localhost:8080/"
    },
    "id": "d_sFyIxN4aqV",
    "outputId": "166bffe7-36d3-4560-976b-3da17f928291",
    "ExecuteTime": {
     "end_time": "2024-09-24T17:13:11.751508Z",
     "start_time": "2024-09-24T17:13:01.179807Z"
    }
   },
   "source": [
    "#27.Make a Simple Calculator\n",
    "\n",
    "def add(a, b):\n",
    "    return a + b\n",
    "\n",
    "def subtract(a, b):\n",
    "    return a - b\n",
    "\n",
    "def multiply(a, b):\n",
    "    return a * b\n",
    "\n",
    "def divide(a, b):\n",
    "    return a / b if y != 0 else 'Undefined (cannot divide by zero)'\n",
    "\n",
    "x = float(input(\"Enter first number: \"))\n",
    "y = float(input(\"Enter second number: \"))\n",
    "operation = input(\"Choose operation (+, -, *, /): \")\n",
    "\n",
    "if operation == '+':\n",
    "    print(f\"Result: {add(a, b)}\")\n",
    "elif operation == '-':\n",
    "    print(f\"Result: {subtract(a, b)}\")\n",
    "elif operation == '*':\n",
    "    print(f\"Result: {multiply(a, b)}\")\n",
    "elif operation == '/':\n",
    "    print(f\"Result: {divide(a, b)}\")\n",
    "else:\n",
    "    print(\"Invalid operation!\")\n"
   ],
   "outputs": [
    {
     "name": "stdout",
     "output_type": "stream",
     "text": [
      "Result: 4895\n"
     ]
    }
   ],
   "execution_count": 39
  },
  {
   "cell_type": "code",
   "metadata": {
    "colab": {
     "base_uri": "https://localhost:8080/"
    },
    "id": "WmoHnGHL56s1",
    "outputId": "abbb1368-4a03-4a02-d541-c0fe8235cb5a",
    "ExecuteTime": {
     "end_time": "2024-09-24T17:14:39.468471Z",
     "start_time": "2024-09-24T17:14:34.506602Z"
    }
   },
   "source": [
    "#28.Display Fibonacci Sequence Using Recursion\n",
    "\n",
    "def fibonacci(n):\n",
    "    if n <= 1:\n",
    "        return n\n",
    "    else:\n",
    "        return fibonacci(n-1) + fibonacci(n-2)\n",
    "\n",
    "n_terms = int(input(\"Number of terms: \"))\n",
    "for i in range(n_terms):\n",
    "    print(fibonacci(i), end=' ')"
   ],
   "outputs": [
    {
     "name": "stdout",
     "output_type": "stream",
     "text": [
      "0 1 1 2 3 5 8 13 21 "
     ]
    }
   ],
   "execution_count": 42
  },
  {
   "cell_type": "code",
   "execution_count": null,
   "metadata": {
    "colab": {
     "base_uri": "https://localhost:8080/"
    },
    "id": "fwRIEILi6J4a",
    "outputId": "6bc60687-c760-4ef9-8b14-6dec1174387a"
   },
   "outputs": [
    {
     "name": "stdout",
     "output_type": "stream",
     "text": [
      "Enter a number: 17\n",
      "Factorial of 17 is 355687428096000.\n"
     ]
    }
   ],
   "source": [
    "#29.Find Factorial of a Number Using Recursion\n",
    "\n",
    "def factorial(n):\n",
    "    if n == 1 or n == 0:\n",
    "        return 1\n",
    "    else:\n",
    "        return n * factorial(n-1)\n",
    "\n",
    "num = int(input(\"Enter a number: \"))\n",
    "print(f\"Factorial of {num} is {factorial(num)}.\")"
   ]
  },
  {
   "cell_type": "code",
   "metadata": {
    "colab": {
     "base_uri": "https://localhost:8080/"
    },
    "id": "WqHMoE166lHZ",
    "outputId": "c3e77162-2b7c-4d1e-f4e2-d095b5f7ae7f",
    "ExecuteTime": {
     "end_time": "2024-09-24T17:16:21.026160Z",
     "start_time": "2024-09-24T17:16:14.539758Z"
    }
   },
   "source": [
    "#30.Calculate the Power of a Number\n",
    "\n",
    "def power(base, pow):\n",
    "    return base ** pow\n",
    "\n",
    "base = int(input(\"Enter base: \"))\n",
    "pow = int(input(\"Enter exponent: \"))\n",
    "print(f\"{base} {pow} is {power(base, pow)}.\")"
   ],
   "outputs": [
    {
     "name": "stdout",
     "output_type": "stream",
     "text": [
      "5 5 is 3125.\n"
     ]
    }
   ],
   "execution_count": 44
  },
  {
   "cell_type": "code",
   "metadata": {
    "colab": {
     "base_uri": "https://localhost:8080/"
    },
    "id": "WOe3rtOY619t",
    "outputId": "52667e99-63b7-4a98-a2e6-720530e499e3",
    "ExecuteTime": {
     "end_time": "2024-09-24T17:17:14.905915Z",
     "start_time": "2024-09-24T17:17:14.899122Z"
    }
   },
   "source": [
    "#31.Add Two Matrices\n",
    "\n",
    "matrix1 = [[9, 7], [1, 3]]\n",
    "matrix2 = [[5, 1], [7, 9]]\n",
    "\n",
    "result = [[matrix1[i][j] + matrix2[i][j] for j in range(len(matrix1[0]))] for i in range(len(matrix1))]\n",
    "\n",
    "for row in result:\n",
    "    print(row)"
   ],
   "outputs": [
    {
     "name": "stdout",
     "output_type": "stream",
     "text": [
      "[14, 8]\n",
      "[8, 12]\n"
     ]
    }
   ],
   "execution_count": 46
  },
  {
   "cell_type": "code",
   "execution_count": null,
   "metadata": {
    "colab": {
     "base_uri": "https://localhost:8080/"
    },
    "id": "5oJjNKER7mPk",
    "outputId": "c1dd50eb-90b3-4e94-e6fc-a0f112f8343d"
   },
   "outputs": [
    {
     "name": "stdout",
     "output_type": "stream",
     "text": [
      "[29, 37]\n",
      "[43, 53]\n"
     ]
    }
   ],
   "source": [
    "#32.Multiply Two Matrices\n",
    "\n",
    "matrix1 = [[3, 2], [3, 4]]\n",
    "matrix2 = [[5, 7], [7, 8]]\n",
    "\n",
    "result = [[0, 0], [0, 0]]\n",
    "\n",
    "\n",
    "for i in range(len(matrix1)):\n",
    "    for j in range(len(matrix2[0])):\n",
    "        for k in range(len(matrix2)):\n",
    "            result[i][j] += matrix1[i][k] * matrix2[k][j]\n",
    "\n",
    "for row in result:\n",
    "    print(row)"
   ]
  },
  {
   "cell_type": "code",
   "execution_count": null,
   "metadata": {
    "colab": {
     "base_uri": "https://localhost:8080/"
    },
    "id": "W98pjT2zEIvv",
    "outputId": "fba63f4f-ee35-4469-c444-1435a18e5d6f"
   },
   "outputs": [
    {
     "name": "stdout",
     "output_type": "stream",
     "text": [
      "[1, 4, 7]\n",
      "[5, 5, 8]\n",
      "[3, 3, 9]\n"
     ]
    }
   ],
   "source": [
    "#33.Transpose a Matrix\n",
    "\n",
    "matrix = [[1, 5, 3], [4, 5, 3], [7, 8, 9]]\n",
    "transpose = [[matrix[j][i] for j in range(len(matrix))] for i in range(len(matrix[0]))]\n",
    "\n",
    "for row in transpose:\n",
    "    print(row)"
   ]
  },
  {
   "cell_type": "code",
   "metadata": {
    "colab": {
     "base_uri": "https://localhost:8080/"
    },
    "id": "i8t93Y7wEhFw",
    "outputId": "dfb1b07d-ae8f-4a86-8b19-3a16ae05e3ea",
    "ExecuteTime": {
     "end_time": "2024-09-24T17:18:16.931055Z",
     "start_time": "2024-09-24T17:17:57.338617Z"
    }
   },
   "source": [
    "#34.Sort Words in Alphabetic Order\n",
    "\n",
    "sentence = input(\"sentence: \")\n",
    "words = sentence.split()\n",
    "words.sort()\n",
    "print(\"Sorted words:\", \" \".join(words))"
   ],
   "outputs": [
    {
     "name": "stdout",
     "output_type": "stream",
     "text": [
      "Sorted words: a animal cow domestic is\n"
     ]
    }
   ],
   "execution_count": 47
  },
  {
   "cell_type": "code",
   "metadata": {
    "colab": {
     "base_uri": "https://localhost:8080/"
    },
    "id": "of6aeAe2FGgM",
    "outputId": "4251e163-8056-47d4-cb01-62c243ba595a",
    "ExecuteTime": {
     "end_time": "2024-09-24T17:19:20.080078Z",
     "start_time": "2024-09-24T17:19:02.959017Z"
    }
   },
   "source": [
    "#35.Remove Punctuation From a String\n",
    "\n",
    "import string\n",
    "\n",
    "text = input(\"Enter a string: \")\n",
    "cleaned_text = text.translate(str.maketrans(\"\", \"\", string.punctuation))\n",
    "print(\"without punctuation:\", cleaned_text)"
   ],
   "outputs": [
    {
     "name": "stdout",
     "output_type": "stream",
     "text": [
      "without punctuation: string with punchuation\n"
     ]
    }
   ],
   "execution_count": 49
  },
  {
   "cell_type": "code",
   "metadata": {
    "colab": {
     "base_uri": "https://localhost:8080/"
    },
    "id": "lLhwNXNsFkVg",
    "outputId": "d2964e54-bee0-4cf8-8a44-521aa96f96b1",
    "ExecuteTime": {
     "end_time": "2024-09-24T17:20:04.959323Z",
     "start_time": "2024-09-24T17:20:04.952453Z"
    }
   },
   "source": [
    "#36.Convert List to String\n",
    "\n",
    "lst = ['hello', 'world']\n",
    "result = \" \".join(lst)\n",
    "print(result)"
   ],
   "outputs": [
    {
     "name": "stdout",
     "output_type": "stream",
     "text": [
      "hello world\n"
     ]
    }
   ],
   "execution_count": 50
  },
  {
   "cell_type": "code",
   "execution_count": null,
   "metadata": {
    "colab": {
     "base_uri": "https://localhost:8080/"
    },
    "id": "bieQUaiSF0B1",
    "outputId": "127b117a-2ddc-41d5-f71f-656e1538c044"
   },
   "outputs": [
    {
     "name": "stdout",
     "output_type": "stream",
     "text": [
      "String representation of number: 739\n"
     ]
    }
   ],
   "source": [
    "#37.Convert Int to String\n",
    "\n",
    "num = 739\n",
    "print(\"String representation of number:\", num)"
   ]
  },
  {
   "cell_type": "code",
   "metadata": {
    "colab": {
     "base_uri": "https://localhost:8080/"
    },
    "id": "o6CwkQY1GLbt",
    "outputId": "1f4b91a8-4ee9-4087-dad9-99a6514b44bd",
    "ExecuteTime": {
     "end_time": "2024-09-24T17:20:47.042120Z",
     "start_time": "2024-09-24T17:20:47.031610Z"
    }
   },
   "source": [
    "#38.Concatenate Two Strings\n",
    "\n",
    "str1 = \"Daffodill\"\n",
    "str2 = \"University\"\n",
    "result = str1 + str2\n",
    "print(result)"
   ],
   "outputs": [
    {
     "name": "stdout",
     "output_type": "stream",
     "text": [
      "DaffodillUniversity\n"
     ]
    }
   ],
   "execution_count": 51
  },
  {
   "cell_type": "code",
   "metadata": {
    "colab": {
     "base_uri": "https://localhost:8080/"
    },
    "id": "EriHOsAdGYzi",
    "outputId": "4b7c0370-135d-4595-8dfc-caaa7b3ea89a",
    "ExecuteTime": {
     "end_time": "2024-09-24T17:21:21.270796Z",
     "start_time": "2024-09-24T17:21:17.173836Z"
    }
   },
   "source": [
    "#39.Generate a Random String\n",
    "\n",
    "import random\n",
    "import string\n",
    "\n",
    "\n",
    "length = int(input(\"Enter the length of the string: \"))\n",
    "result = ''.join(random.choice(string.ascii_letters + string.digits) for _ in range(length))\n",
    "print(f\"Random string: {result}\")"
   ],
   "outputs": [
    {
     "name": "stdout",
     "output_type": "stream",
     "text": [
      "Random string: QrW4d\n"
     ]
    }
   ],
   "execution_count": 53
  },
  {
   "cell_type": "code",
   "metadata": {
    "colab": {
     "base_uri": "https://localhost:8080/"
    },
    "id": "K04ZGHBoYBLC",
    "outputId": "59e501e6-4259-4515-9dc0-5af2d7dd480c",
    "ExecuteTime": {
     "end_time": "2024-09-24T17:22:31.844654Z",
     "start_time": "2024-09-24T17:22:26.863925Z"
    }
   },
   "source": [
    "#40.Check Whether a Given String is a Palindrome or Not\n",
    "\n",
    "a = input(\"Enter string: \")\n",
    "\n",
    "# Normalize the string: convert to lowercase and remove spaces\n",
    "b = a.replace(\" \", \"\").lower()\n",
    "\n",
    "# Check if the normalized string is a palindrome\n",
    "if b == b[::-1]:\n",
    "    print(f\"{a} string is a palindrome.\")\n",
    "else:\n",
    "    print(f\"{a} string is not a palindrome.\")"
   ],
   "outputs": [
    {
     "name": "stdout",
     "output_type": "stream",
     "text": [
      "Phython string is not a palindrome.\n"
     ]
    }
   ],
   "execution_count": 56
  },
  {
   "cell_type": "code",
   "metadata": {
    "colab": {
     "base_uri": "https://localhost:8080/"
    },
    "id": "6i0eGlkblNcN",
    "outputId": "0076446c-a0d2-4575-f21d-71655175aacf",
    "ExecuteTime": {
     "end_time": "2024-09-24T17:23:14.080939Z",
     "start_time": "2024-09-24T17:22:45.132943Z"
    }
   },
   "source": [
    "#41Convert the String into Lowercase to Uppercase and Vice Versa\n",
    "\n",
    "string = input(\"Enter a string: \")\n",
    "swapped = string.swapcase()\n",
    "print(f\"Swapped case: {swapped}\")"
   ],
   "outputs": [
    {
     "name": "stdout",
     "output_type": "stream",
     "text": [
      "Swapped case: pHYTHON iS A hIGH lEVEL lANGUAGE\n"
     ]
    }
   ],
   "execution_count": 57
  },
  {
   "cell_type": "code",
   "metadata": {
    "colab": {
     "base_uri": "https://localhost:8080/"
    },
    "id": "YJ6UCvZKlex8",
    "outputId": "290e47cd-8f05-4338-9351-56bd9c005592",
    "ExecuteTime": {
     "end_time": "2024-09-24T17:24:51.066677Z",
     "start_time": "2024-09-24T17:23:46.919617Z"
    }
   },
   "source": [
    "#42.Find the Occurrence of a Substring Within a String\n",
    "\n",
    "string = input(\"main string: \")\n",
    "substring = input(\"substring to find: \")\n",
    "count = string.count(substring)\n",
    "print(f\"'{substring}' occurs {count} times in the string.\")"
   ],
   "outputs": [
    {
     "name": "stdout",
     "output_type": "stream",
     "text": [
      "'string' occurs 2 times in the string.\n"
     ]
    }
   ],
   "execution_count": 58
  },
  {
   "cell_type": "code",
   "metadata": {
    "colab": {
     "base_uri": "https://localhost:8080/"
    },
    "id": "9VG9qLAemJTL",
    "outputId": "d997eff1-e7d7-4680-ca46-3a6888b0bc65",
    "ExecuteTime": {
     "end_time": "2024-09-24T17:25:36.781556Z",
     "start_time": "2024-09-24T17:25:32.740993Z"
    }
   },
   "source": [
    "#43.Append Element in the List\n",
    "\n",
    "lst = [2,4,6,8,10,12]\n",
    "a = int(input(\"element to append: \"))\n",
    "lst.append(a)\n",
    "print(\"Updated list:\", lst)"
   ],
   "outputs": [
    {
     "name": "stdout",
     "output_type": "stream",
     "text": [
      "Updated list: [2, 4, 6, 8, 10, 12, 14]\n"
     ]
    }
   ],
   "execution_count": 59
  },
  {
   "cell_type": "code",
   "metadata": {
    "colab": {
     "base_uri": "https://localhost:8080/"
    },
    "id": "KQX1YOZYmZIT",
    "outputId": "1f4efeb2-a2ee-4801-9be0-5e33081ca4fe",
    "ExecuteTime": {
     "end_time": "2024-09-24T17:26:14.099490Z",
     "start_time": "2024-09-24T17:26:14.089489Z"
    }
   },
   "source": [
    "#44.Compare Two Lists\n",
    "\n",
    "list1 = [1,3,5]\n",
    "list2 = [2, 4, 6]\n",
    "\n",
    "if list1 == list2:\n",
    "    print(\"Both lists are equal.\")\n",
    "else:\n",
    "    print(\"Lists are not equal.\")"
   ],
   "outputs": [
    {
     "name": "stdout",
     "output_type": "stream",
     "text": [
      "Lists are not equal.\n"
     ]
    }
   ],
   "execution_count": 60
  },
  {
   "cell_type": "code",
   "metadata": {
    "colab": {
     "base_uri": "https://localhost:8080/"
    },
    "id": "xgNpFP7Wmnfa",
    "outputId": "f7d42511-5b4c-4a83-f5b5-b63f7f2eedab",
    "ExecuteTime": {
     "end_time": "2024-09-24T17:28:01.031620Z",
     "start_time": "2024-09-24T17:28:01.024237Z"
    }
   },
   "source": [
    "#45.Convert List to Dictionary\n",
    "\n",
    "a = ['cat', 'cow', 'milk',10]\n",
    "b = ['meat', 'goat,cow']\n",
    "\n",
    "dictionary = dict(zip(a,b))#mapping the keys and values in the dictionary\n",
    "print(\"Converted dictionary:\", dictionary)"
   ],
   "outputs": [
    {
     "name": "stdout",
     "output_type": "stream",
     "text": [
      "Converted dictionary: {'cat': 'meat', 'cow': 'goat,cow'}\n"
     ]
    }
   ],
   "execution_count": 61
  },
  {
   "cell_type": "code",
   "metadata": {
    "colab": {
     "base_uri": "https://localhost:8080/"
    },
    "id": "21fJZcN7m72p",
    "outputId": "a4379e77-57fa-4c4c-bc1a-77a5c11807d1",
    "ExecuteTime": {
     "end_time": "2024-09-24T17:29:00.029482Z",
     "start_time": "2024-09-24T17:28:54.310324Z"
    }
   },
   "source": [
    "#46.Remove an Element from a List\n",
    "\n",
    "lst = [1, 3, 5,7 ,9]\n",
    "rem = int(input(\"Enter element to remove: \"))\n",
    "lst.remove(rem)\n",
    "print(\"Updated list:\", lst)"
   ],
   "outputs": [
    {
     "name": "stdout",
     "output_type": "stream",
     "text": [
      "Updated list: [1, 3, 7, 9]\n"
     ]
    }
   ],
   "execution_count": 62
  },
  {
   "cell_type": "code",
   "metadata": {
    "colab": {
     "base_uri": "https://localhost:8080/"
    },
    "id": "Tjje648snMP4",
    "outputId": "1d81d842-9e7c-4a37-adb3-283ce420820f",
    "ExecuteTime": {
     "end_time": "2024-09-24T17:29:28.286764Z",
     "start_time": "2024-09-24T17:29:28.280866Z"
    }
   },
   "source": [
    "#47.Add Two Lists\n",
    "\n",
    "list1 = [1,3,5,7,9 ]\n",
    "list2 = [11,13,15,17,19]\n",
    "\n",
    "list3 = list1 + list2\n",
    "print(\"Combined list:\",list3)"
   ],
   "outputs": [
    {
     "name": "stdout",
     "output_type": "stream",
     "text": [
      "Combined list: [1, 3, 5, 7, 9, 11, 13, 15, 17, 19]\n"
     ]
    }
   ],
   "execution_count": 63
  },
  {
   "cell_type": "code",
   "metadata": {
    "colab": {
     "base_uri": "https://localhost:8080/"
    },
    "id": "5ZXoAkYZne-7",
    "outputId": "f396911e-70b1-4bb5-f43b-bdefc32a09c2",
    "ExecuteTime": {
     "end_time": "2024-09-24T17:29:41.164238Z",
     "start_time": "2024-09-24T17:29:41.158765Z"
    }
   },
   "source": [
    "#48.Convert List to Set\n",
    "\n",
    "list = [1, 3,   5, 7,9]\n",
    "result = set(list)\n",
    "print(\"Converted set:\", result)"
   ],
   "outputs": [
    {
     "name": "stdout",
     "output_type": "stream",
     "text": [
      "Converted set: {1, 3, 5, 7, 9}\n"
     ]
    }
   ],
   "execution_count": 64
  },
  {
   "cell_type": "code",
   "metadata": {
    "colab": {
     "base_uri": "https://localhost:8080/"
    },
    "id": "2GxI_pV6nzDq",
    "outputId": "55fd2a1a-d930-47e0-fbf1-33c299f7ade4",
    "ExecuteTime": {
     "end_time": "2024-09-24T17:30:19.531456Z",
     "start_time": "2024-09-24T17:30:19.525953Z"
    }
   },
   "source": [
    "#49.Convert List to String\n",
    "\n",
    "list = ['Mew', 'moo', 'sparkle' ]\n",
    "result = \" \".join(list)\n",
    "print(\"Converted string:\", result)"
   ],
   "outputs": [
    {
     "name": "stdout",
     "output_type": "stream",
     "text": [
      "Converted string: Mew moo sparkle\n"
     ]
    }
   ],
   "execution_count": 65
  },
  {
   "cell_type": "code",
   "execution_count": null,
   "metadata": {
    "colab": {
     "base_uri": "https://localhost:8080/"
    },
    "id": "Etpapdw-1UV9",
    "outputId": "217918b3-6177-45d6-9546-199beef38dc8"
   },
   "outputs": [
    {
     "name": "stdout",
     "output_type": "stream",
     "text": [
      "List after removing duplicates: [1, 2, 3, 4, 5, 6]\n"
     ]
    }
   ],
   "source": [
    "#remove duplicates from a list\n",
    "\n",
    "a = [1, 2, 2, 3, 4, 4, 5, 5, 6]\n",
    "b = list(set(a))  # Convert to set to remove duplicates\n",
    "print(\"List after removing duplicates:\", b)\n"
   ]
  }
 ],
 "metadata": {
  "colab": {
   "provenance": []
  },
  "kernelspec": {
   "display_name": "Python 3 (ipykernel)",
   "name": "python3",
   "language": "python"
  },
  "language_info": {
   "name": "python"
  }
 },
 "nbformat": 4,
 "nbformat_minor": 0
}
